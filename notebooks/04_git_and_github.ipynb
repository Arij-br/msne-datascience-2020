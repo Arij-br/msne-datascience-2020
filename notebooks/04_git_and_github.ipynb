{
 "cells": [
  {
   "cell_type": "markdown",
   "metadata": {
    "slideshow": {
     "slide_type": "slide"
    }
   },
   "source": [
    "# Session 4: `git` and GitHub"
   ]
  },
  {
   "cell_type": "markdown",
   "metadata": {
    "slideshow": {
     "slide_type": "slide"
    }
   },
   "source": [
    "## Goals \n",
    "\n",
    "- Understand the why Version Control is extremely useful and relevant\n",
    "- Learn the basics of `git`\n",
    "- Make a repository on GitHub and push some changes to the remote\n",
    "- Optionally: Dive deeper into concepts of `git`"
   ]
  },
  {
   "cell_type": "markdown",
   "metadata": {},
   "source": [
    "## Why version control? (will talk about this on Zoom)\n",
    "\n",
    "- See also: https://git-scm.com/video/what-is-version-control"
   ]
  },
  {
   "cell_type": "markdown",
   "metadata": {},
   "source": [
    "## Basics of `git`"
   ]
  },
  {
   "cell_type": "markdown",
   "metadata": {},
   "source": [
    "To learn the 101 of using `git` work through the following course:\n",
    "- https://learn.datacamp.com/courses/introduction-to-git\n",
    "    \n",
    "Make sure to try some of what you learned on your own machine as well, e.g., create a new empty repository, create and an example file that you modify through multiple commits, and role back changes."
   ]
  },
  {
   "cell_type": "markdown",
   "metadata": {},
   "source": [
    "## Basics of GitHub (will talk about this on Zoom)"
   ]
  },
  {
   "cell_type": "markdown",
   "metadata": {},
   "source": [
    "Exercise: In the last part of the DataCamp course you learned how to add a remote. Go to GitHub.com and create a new private or public repository. Copy the URL of the repository and add it as a remote to an existing local repository and push the changes to GitHub. If successful, you should be able to see the repository contents online."
   ]
  },
  {
   "cell_type": "markdown",
   "metadata": {},
   "source": [
    "## Intermediate `git`"
   ]
  },
  {
   "cell_type": "markdown",
   "metadata": {},
   "source": [
    "### Branching model\n",
    "\n",
    "If you have time to deepen you knowledge of `git` further I would highly recommend going through the tutorials offered at: https://learngitbranching.js.org\n",
    "\n",
    "> \"Learn Git Branching\" is the most visual and interactive way to learn Git on the web; you'll be challenged with exciting levels, given step-by-step demonstrations of powerful features, and maybe even have a bit of fun along the way.\n",
    "\n",
    "\n",
    "### Merge versus rebase\n",
    "\n",
    "> Rebasing and merging are both designed to integrate changes from one branch into another branch but in different ways.\n",
    "\n",
    "You can learn more about the differences and when to use which option here:\n",
    "https://www.atlassian.com/git/tutorials/merging-vs-rebasing\n",
    "\n",
    "### Reference\n",
    "\n",
    "Finally, if you are looking for a good reference book to read things up, I would recommend:\n",
    "http://shafiul.github.io/gitbook/ or https://git-scm.com/book/en/v2"
   ]
  }
 ],
 "metadata": {
  "celltoolbar": "Slideshow",
  "kernelspec": {
   "display_name": "Python 3",
   "language": "python",
   "name": "python3"
  },
  "language_info": {
   "codemirror_mode": {
    "name": "ipython",
    "version": 3
   },
   "file_extension": ".py",
   "mimetype": "text/x-python",
   "name": "python",
   "nbconvert_exporter": "python",
   "pygments_lexer": "ipython3",
   "version": "3.8.5"
  }
 },
 "nbformat": 4,
 "nbformat_minor": 2
}
