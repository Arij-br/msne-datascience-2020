{
 "cells": [
  {
   "cell_type": "markdown",
   "metadata": {
    "slideshow": {
     "slide_type": "slide"
    }
   },
   "source": [
    "# Session 2: Getting started with Python\n",
    "## November 7th"
   ]
  },
  {
   "cell_type": "markdown",
   "metadata": {
    "slideshow": {
     "slide_type": "slide"
    }
   },
   "source": [
    "## Goals \n",
    "\n",
    "- Get your python environment ready\n",
    "- Launch and use python in various ways\n",
    "- Start learning the basics"
   ]
  },
  {
   "cell_type": "markdown",
   "metadata": {
    "slideshow": {
     "slide_type": "slide"
    }
   },
   "source": [
    "## 1. Get your python environment ready\n",
    "\n",
    "We will use Anaconda, a popular Python distribution: https://www.anaconda.com/products/individual\n",
    "\n",
    "Follow the instructions provided at: https://www.digitalocean.com/community/tutorials/how-to-install-anaconda-on-ubuntu-18-04-quickstart\n",
    "\n",
    "The essence of the instructions is:\n",
    "```commandline\n",
    "$ cd /tmp \n",
    "\n",
    "# If you are using WSL via Windows or Linux\n",
    "$ curl -O https://repo.anaconda.com/archive/Anaconda3-2020.07-Linux-x86_64.sh\n",
    "\n",
    "# If you are using MacOS:\n",
    "$ curl -O https://repo.anaconda.com/archive/Anaconda3-2020.07-MacOSX-x86_64.sh\n",
    "\n",
    "# Next, execute the installer, i.e. if you are WSL/Linux:\n",
    "$ bash Anaconda3-2020.07-Linux-x86_64.sh\n",
    "\n",
    "# ... macOS:\n",
    "$ bash Anaconda3-2020.07-MacOSX-x86_64.sh\n",
    "\n",
    "# Follow the installer, when asked \"Do you wish the installer to initialize Anaconda3\n",
    "by running conda init?\" choose yes\n",
    "\n",
    "# Next, restart the terminal or type:\n",
    "$ source ~/.bashrc\n",
    "\n",
    "# Test the installation (should see long list of packages)\n",
    "conda list\n",
    "\n",
    "# Create a new environment\n",
    "conda create --name ds2020 python=3\n",
    "\n",
    "# Activate the environment\n",
    "conda activate ds2020\n",
    "```"
   ]
  },
  {
   "cell_type": "markdown",
   "metadata": {
    "slideshow": {
     "slide_type": "slide"
    }
   },
   "source": [
    "## 2. Launch python in various ways (we will talk about this on Zoom)\n",
    "\n",
    "- terminal\n",
    "- terminal + editor (note about `/mnt/c/ubuntu`)\n",
    "- ipython\n",
    "- jupyter notebook\n",
    "- jupyter lab\n",
    "- https://repl.it/languages/python3\n",
    "- https://colab.research.google.com\n",
    "- https://mybinder.org"
   ]
  },
  {
   "cell_type": "markdown",
   "metadata": {},
   "source": [
    "## 3. Start learning the basics"
   ]
  },
  {
   "cell_type": "markdown",
   "metadata": {},
   "source": [
    "- https://www.datacamp.com/courses/intro-to-python-for-data-science\n",
    "- https://practice.datacamp.com/p/3"
   ]
  },
  {
   "cell_type": "markdown",
   "metadata": {},
   "source": [
    "## 4. Try what you have learned on your own machine\n",
    "\n",
    "Install [Jupyter](https://jupyter-notebook.readthedocs.io/en/stable/), [IPython](https://ipython.readthedocs.io/en/stable/) and [numpy](https://numpy.org):\n",
    "```\n",
    "$ conda activate ds2020\n",
    "$ conda install jupyter ipython numpy\n",
    "```\n",
    "\n",
    "Try some of what you have learned through Jupyter and IPython."
   ]
  }
 ],
 "metadata": {
  "celltoolbar": "Slideshow",
  "kernelspec": {
   "display_name": "Python 3",
   "language": "python",
   "name": "python3"
  },
  "language_info": {
   "codemirror_mode": {
    "name": "ipython",
    "version": 3
   },
   "file_extension": ".py",
   "mimetype": "text/x-python",
   "name": "python",
   "nbconvert_exporter": "python",
   "pygments_lexer": "ipython3",
   "version": "3.7.4"
  }
 },
 "nbformat": 4,
 "nbformat_minor": 2
}
