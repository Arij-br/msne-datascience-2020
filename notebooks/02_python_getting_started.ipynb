{
 "cells": [
  {
   "cell_type": "markdown",
   "metadata": {
    "slideshow": {
     "slide_type": "slide"
    }
   },
   "source": [
    "# Session 2: Getting started with Python\n",
    "## November 7th"
   ]
  },
  {
   "cell_type": "markdown",
   "metadata": {
    "slideshow": {
     "slide_type": "slide"
    }
   },
   "source": [
    "## Goals \n",
    "\n",
    "- Get your python environment ready\n",
    "- Launch and use python in various ways\n",
    "- Start learning the basics"
   ]
  },
  {
   "cell_type": "markdown",
   "metadata": {
    "slideshow": {
     "slide_type": "slide"
    }
   },
   "source": [
    "## 1. Get your python environment ready\n",
    "\n",
    "We will use Anaconda, a popular Python distribution: https://www.anaconda.com/products/individual\n",
    "\n",
    "Follow the instructions provided at: https://www.digitalocean.com/community/tutorials/how-to-install-anaconda-on-ubuntu-18-04-quickstart\n",
    "\n",
    "The essence of the instructions is:\n",
    "```commandline\n",
    "$ cd /tmp \n",
    "\n",
    "# If you are using WSL via Windows or Linux\n",
    "$ curl -O https://repo.anaconda.com/archive/Anaconda3-2020.07-Linux-x86_64.sh\n",
    "\n",
    "# If you are using MacOS:\n",
    "$ curl -O https://repo.anaconda.com/archive/Anaconda3-2020.07-MacOSX-x86_64.sh\n",
    "\n",
    "# Next, execute the installer, i.e. if you are WSL/Linux:\n",
    "$ bash Anaconda3-2020.07-Linux-x86_64.sh\n",
    "\n",
    "# ... macOS:\n",
    "$ bash Anaconda3-2020.07-MacOSX-x86_64.sh\n",
    "\n",
    "# Follow the installer, when asked \"Do you wish the installer to initialize Anaconda3\n",
    "by running conda init?\" choose yes\n",
    "\n",
    "# Next, restart the terminal or type:\n",
    "$ source ~/.bashrc\n",
    "\n",
    "# Test the installation (should see long list of packages)\n",
    "conda list\n",
    "\n",
    "# Create a new environment\n",
    "conda create --name ds2020 python=3\n",
    "\n",
    "# Activate the environment\n",
    "conda activate ds2020\n",
    "```"
   ]
  },
  {
   "cell_type": "markdown",
   "metadata": {
    "slideshow": {
     "slide_type": "slide"
    }
   },
   "source": [
    "## 2. Launch python in various ways (we will talk about this on Zoom)\n",
    "\n",
    "There are many ways in which you can run Python programs. We will talk about some different ways on Zoom.\n",
    "\n",
    "For a brief overview:\n",
    "1. You may run python interactively, starting it from the terminal.\n",
    "2. For interactive use, some people prefer using `ipython` instead, which will e.g. give you syntax highlighting and some other nice features, see https://ipython.readthedocs.io/en/stable/\n",
    "3. Instead of using python interactively, you can write scripts that contain the instructions and call python to execute the script. Note that if you are using WSL, you can access your Windows filesystem via `/mnt/c/`.\n",
    "4. Jupyter notebooks are a way of mixing part of Python (or other programming languages) and blocks of other content. You are actually looking at a Jupyter notebook right now. See https://jupyter-notebook.readthedocs.io/en/stable/ \n",
    "5. Jupyter lab, see https://jupyterlab.readthedocs.io/en/stable/\n",
    "\n",
    "\n",
    "Different websites that let you run Python on other machines:\n",
    "- https://repl.it/languages/python3\n",
    "- https://colab.research.google.com\n",
    "- https://mybinder.org"
   ]
  },
  {
   "cell_type": "markdown",
   "metadata": {},
   "source": [
    "## 3. Start learning the basics"
   ]
  },
  {
   "cell_type": "markdown",
   "metadata": {},
   "source": [
    "Complete the following short course (~4h) and exercise:\n",
    "- https://www.datacamp.com/courses/intro-to-python-for-data-science\n",
    "- https://practice.datacamp.com/p/3"
   ]
  },
  {
   "cell_type": "markdown",
   "metadata": {},
   "source": [
    "## 4. Try what you have learned on your own machine\n",
    "\n",
    "Install [Jupyter](https://jupyter-notebook.readthedocs.io/en/stable/), [IPython](https://ipython.readthedocs.io/en/stable/) and [numpy](https://numpy.org):\n",
    "```\n",
    "$ conda activate ds2020\n",
    "$ conda install jupyter ipython numpy\n",
    "```\n",
    "\n",
    "Try some of what you have learned through Jupyter and IPython."
   ]
  }
 ],
 "metadata": {
  "celltoolbar": "Slideshow",
  "kernelspec": {
   "display_name": "Python 3",
   "language": "python",
   "name": "python3"
  },
  "language_info": {
   "codemirror_mode": {
    "name": "ipython",
    "version": 3
   },
   "file_extension": ".py",
   "mimetype": "text/x-python",
   "name": "python",
   "nbconvert_exporter": "python",
   "pygments_lexer": "ipython3",
   "version": "3.7.4"
  }
 },
 "nbformat": 4,
 "nbformat_minor": 2
}
