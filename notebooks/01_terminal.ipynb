{
 "cells": [
  {
   "cell_type": "markdown",
   "metadata": {
    "slideshow": {
     "slide_type": "slide"
    }
   },
   "source": [
    "# Session 1: Terminal"
   ]
  },
  {
   "cell_type": "markdown",
   "metadata": {
    "slideshow": {
     "slide_type": "slide"
    }
   },
   "source": [
    "## Goals \n",
    "\n",
    "- Get your terminal environment ready\n",
    "- Learn some basics of using a terminal\n",
    "- Clone the course repository using `git` on the commandline"
   ]
  },
  {
   "cell_type": "markdown",
   "metadata": {
    "slideshow": {
     "slide_type": "slide"
    }
   },
   "source": [
    "## 1. Get your terminal environment ready\n",
    "\n",
    "- Linux and macOS, you are done :)\n",
    "- Windows users: Please follow install Windows Subsytem for Linux (WSL), available here: https://docs.microsoft.com/en-us/windows/wsl/install-win10\n",
    "- Alternative solution: https://www.virtualbox.org"
   ]
  },
  {
   "cell_type": "markdown",
   "metadata": {
    "slideshow": {
     "slide_type": "slide"
    }
   },
   "source": [
    "## 2. Learn terminal basics\n",
    "\n",
    "Work through chapters 1 and 2 of https://www.datacamp.com/courses/introduction-to-shell-for-data-science. Make sure to try out some of the commands in your own terminal environment as well."
   ]
  },
  {
   "cell_type": "markdown",
   "metadata": {},
   "source": [
    "## 3. Download the contents of the course repository using `git`\n",
    "\n",
    "Use the command `git` (which should be available in your terminal environment) to download the contents of the course repository. Instructions on how to that are provided here: https://github.com/cne-tum/msne-datascience-2020/"
   ]
  },
  {
   "cell_type": "markdown",
   "metadata": {},
   "source": [
    "## 4. Optional:\n",
    "\n",
    "If you have time and energy left, feel free to continue with the remaining chapters for  https://www.datacamp.com/courses/introduction-to-shell-for-data-science. They teach you some more specific shell skills that you will not need for the rest of the course but may proof helpful nevertheless!"
   ]
  }
 ],
 "metadata": {
  "celltoolbar": "Slideshow",
  "kernelspec": {
   "display_name": "Python 3",
   "language": "python",
   "name": "python3"
  },
  "language_info": {
   "codemirror_mode": {
    "name": "ipython",
    "version": 3
   },
   "file_extension": ".py",
   "mimetype": "text/x-python",
   "name": "python",
   "nbconvert_exporter": "python",
   "pygments_lexer": "ipython3",
   "version": "3.7.4"
  }
 },
 "nbformat": 4,
 "nbformat_minor": 2
}
