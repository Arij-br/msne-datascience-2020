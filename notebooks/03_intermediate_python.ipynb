{
 "cells": [
  {
   "cell_type": "markdown",
   "metadata": {
    "slideshow": {
     "slide_type": "slide"
    }
   },
   "source": [
    "# Session 3: Intermediate Python"
   ]
  },
  {
   "cell_type": "markdown",
   "metadata": {
    "slideshow": {
     "slide_type": "slide"
    }
   },
   "source": [
    "## Goals \n",
    "\n",
    "- Make sure everybody has working python environment (will address remaining problems today)\n",
    "- Do NumPy exercises in this notebook on your machine, while learning to use `help` and NumPy docs\n",
    "- Continue with intermediate Python exercises on DataCamp, self-paced, depending on your speed and level"
   ]
  },
  {
   "cell_type": "markdown",
   "metadata": {},
   "source": [
    "## A Note about WSL"
   ]
  },
  {
   "cell_type": "markdown",
   "metadata": {},
   "source": [
    "We briefly talked about this on Saturday during the lecture, but it's important so once again: If you are using Windows Subsystem for Linux, I would recommend the following:\n",
    "1. Make a new folder on Windows e.g. create `C:\\ubuntu\\`\n",
    "2. When you are on the Ubuntu terminal and want to work on a project, I would recommend switching to the path `/mnt/c/ubuntu/` and working in there.\n",
    "\n",
    "Why? That way, you can access files that live inside WSL from Windows and Ubuntu. This might be handy for several things:\n",
    "1. If you prefer writing your code in an external editor, like [Atom](http://atom.io) or [VSCode](https://code.visualstudio.com) this comes handy: You install the editor on Windows, store files in `C:\\ubuntu\\perhaps_some_subfolder` and can access them from your Ubuntu terminal by switching to `/mnt/c/ubuntu/perhaps_some_subfolder` e.g. to run Python on the script file.\n",
    "2. Your scripts or notebooks may eventually create outputs that you want to access from Windows, say, for example, your script or notebook creates some plots you need to use for a report or homework assignment. By working inside `/mnt/c/ubuntu` you can easily access files from Windows Explorer."
   ]
  },
  {
   "cell_type": "markdown",
   "metadata": {},
   "source": [
    "## NumPy exercises"
   ]
  },
  {
   "cell_type": "markdown",
   "metadata": {},
   "source": [
    "- In order to do the following exercises, you should clone this repository with `git` onto your local machine (see `01_terminal` session).\n",
    "- If you are using WSL, try following the note above and clone the repository inside `/mnt/c/ubuntu` after creating `C:\\ubuntu` on Windows. Can you see the files from both systems?\n",
    "- Next, switch into the cloned repository, activate your environment (see `02_python_getting_started`) and launch `jupyter notebook` from the terminal. Open this notebook in your browser, following the instructions printed to the terminal, and try doing the exercises in the next cells.\n",
    "- Note: You may be asked to do things you have not learned yet. "
   ]
  },
  {
   "cell_type": "markdown",
   "metadata": {},
   "source": [
    "### 1. Import the numpy package under the name `np`"
   ]
  },
  {
   "cell_type": "code",
   "execution_count": null,
   "metadata": {},
   "outputs": [],
   "source": []
  },
  {
   "cell_type": "markdown",
   "metadata": {},
   "source": [
    "### 2. Print the version of NumPy you are using in the form: \"NumPy version is: xxxx. \"\n",
    "Hint: Use `np.__version__`"
   ]
  },
  {
   "cell_type": "code",
   "execution_count": null,
   "metadata": {},
   "outputs": [],
   "source": []
  },
  {
   "cell_type": "markdown",
   "metadata": {},
   "source": [
    "### 3. Print the docstring, i.e., the description of the function `np.linspace` and read through. Also try finding the same information through https://numpy.org, clicking on Documentation. \n",
    "Hint: Use `help()`. \n",
    "\n",
    "Note: In notebooks and IPython you could also use `?function_name` to get help which shows a popup."
   ]
  },
  {
   "cell_type": "code",
   "execution_count": null,
   "metadata": {},
   "outputs": [],
   "source": []
  },
  {
   "cell_type": "markdown",
   "metadata": {},
   "source": [
    "### 4. Create a vector with values ranging from 10 to 49"
   ]
  },
  {
   "cell_type": "code",
   "execution_count": null,
   "metadata": {},
   "outputs": [],
   "source": []
  },
  {
   "cell_type": "markdown",
   "metadata": {},
   "source": [
    "### 5. Find indices of non-zero elements from \\[1,2,0,0,4,0\\]\n",
    "\n",
    "Hint: Take a look at `np.nonzero`"
   ]
  },
  {
   "cell_type": "code",
   "execution_count": null,
   "metadata": {},
   "outputs": [],
   "source": []
  },
  {
   "cell_type": "markdown",
   "metadata": {},
   "source": [
    "### 6. Create a 10 x 10 array of random values and compute the mean. Find the function to do so through the documentation accessible via https://numpy.org/"
   ]
  },
  {
   "cell_type": "code",
   "execution_count": null,
   "metadata": {},
   "outputs": [],
   "source": []
  },
  {
   "cell_type": "markdown",
   "metadata": {},
   "source": [
    "### 7. Create random vector of size 10 and replace the maximum value by 0.\n",
    "\n",
    "Hint: Use `np.argmax`"
   ]
  },
  {
   "cell_type": "code",
   "execution_count": null,
   "metadata": {},
   "outputs": [],
   "source": []
  },
  {
   "cell_type": "markdown",
   "metadata": {},
   "source": [
    "### 8. Multiply a 5x3 matrix by a 3x2 matrix (real matrix product)\n",
    "\n",
    "Hint: look into `np.dot()`"
   ]
  },
  {
   "cell_type": "code",
   "execution_count": null,
   "metadata": {},
   "outputs": [],
   "source": []
  },
  {
   "cell_type": "markdown",
   "metadata": {},
   "source": [
    "### 9. Create a 10x10 array with random values and find the minimum and maximum values"
   ]
  },
  {
   "cell_type": "code",
   "execution_count": null,
   "metadata": {},
   "outputs": [],
   "source": []
  },
  {
   "cell_type": "markdown",
   "metadata": {},
   "source": [
    "### 10. How do you access every second value from the array `x` below? \n",
    "Hint: Have a look at the basic slice syntax here: https://numpy.org/doc/stable/reference/arrays.indexing.html"
   ]
  },
  {
   "cell_type": "code",
   "execution_count": 25,
   "metadata": {},
   "outputs": [],
   "source": [
    "x = np.array([0, 1, 2, 3, 4, 5, 6, 7, 8, 9])\n",
    "\n",
    "# ..."
   ]
  },
  {
   "cell_type": "markdown",
   "metadata": {},
   "source": [
    "### Additional NumPy resources\n",
    "\n",
    "This was just a small part of what NumPy has to offer. At some later point, e.g. for a class or internship, you may need more of NumPy's functionality. A good place to start learning from is actually the NumPy documentation itself, which comes with many examples and is very readable -- perhaps erring on the side of being too lengthy at times. If you are impantient and would prefer a concise tutorial, I would recommend the following site: https://scipy-lectures.org/intro/numpy/index.html"
   ]
  },
  {
   "cell_type": "markdown",
   "metadata": {},
   "source": [
    "## Intermediate Python on DataCamp\n",
    "\n",
    "Assuming you have successfully finished the basics of Python course, continue with the \"Intermediate Python\" course which -- among other things -- will introduce you to plotting and control structures:\n",
    "\n",
    "- https://learn.datacamp.com/courses/intermediate-python\n",
    "\n",
    "Once done with the course, answer a few exercises:\n",
    "- https://practice.datacamp.com/p/5"
   ]
  },
  {
   "cell_type": "markdown",
   "metadata": {},
   "source": [
    "## Further courses\n",
    "\n",
    "If you have time in the coming weeks and liked the DataCamp format for learning I would recommend working through the following courses (in this order):\n",
    "\n",
    "- https://learn.datacamp.com/courses/python-data-science-toolbox-part-1\n",
    "- https://learn.datacamp.com/courses/python-data-science-toolbox-part-2\n",
    "- https://campus.datacamp.com/courses/object-oriented-programming-in-python/oop-fundamentals?ex=1"
   ]
  }
 ],
 "metadata": {
  "celltoolbar": "Slideshow",
  "kernelspec": {
   "display_name": "Python 3",
   "language": "python",
   "name": "python3"
  },
  "language_info": {
   "codemirror_mode": {
    "name": "ipython",
    "version": 3
   },
   "file_extension": ".py",
   "mimetype": "text/x-python",
   "name": "python",
   "nbconvert_exporter": "python",
   "pygments_lexer": "ipython3",
   "version": "3.8.5"
  }
 },
 "nbformat": 4,
 "nbformat_minor": 2
}
