{
 "cells": [
  {
   "cell_type": "markdown",
   "metadata": {
    "slideshow": {
     "slide_type": "slide"
    }
   },
   "source": [
    "## Fundamentals of Computer Science for Computational Neuroengineering\n",
    "\n",
    "Jan Boelts, Jan-Matthis Lueckmann, Poornima Ramesh"
   ]
  },
  {
   "cell_type": "markdown",
   "metadata": {
    "slideshow": {
     "slide_type": "slide"
    }
   },
   "source": [
    "## What this course is about?"
   ]
  },
  {
   "cell_type": "markdown",
   "metadata": {
    "slideshow": {
     "slide_type": "subslide"
    }
   },
   "source": [
    "## Basics of using a terminal"
   ]
  },
  {
   "cell_type": "markdown",
   "metadata": {
    "slideshow": {
     "slide_type": "fragment"
    }
   },
   "source": [
    "- Command line is how computers were used back in the days before graphical interfaces\n",
    "- Survived and thrived up to today, because complex tasks can be done in few keystrokes"
   ]
  },
  {
   "cell_type": "markdown",
   "metadata": {
    "slideshow": {
     "slide_type": "subslide"
    }
   },
   "source": [
    "## Basics of Python"
   ]
  },
  {
   "cell_type": "markdown",
   "metadata": {
    "slideshow": {
     "slide_type": "fragment"
    }
   },
   "source": [
    "- Python syntax and fundamental programming concepts\n",
    "- Particular focus data analysis and visualisation\n",
    "- Learn how to use Jupyter notebooks, and packages such as `numpy`, `matplotlib` and `pandas`"
   ]
  },
  {
   "cell_type": "markdown",
   "metadata": {
    "slideshow": {
     "slide_type": "subslide"
    }
   },
   "source": [
    "## Project management"
   ]
  },
  {
   "cell_type": "markdown",
   "metadata": {
    "slideshow": {
     "slide_type": "fragment"
    }
   },
   "source": [
    "- Version control with `git` and how to use GitHub for collaboration"
   ]
  },
  {
   "cell_type": "markdown",
   "metadata": {
    "slideshow": {
     "slide_type": "subslide"
    }
   },
   "source": [
    "## Projects"
   ]
  },
  {
   "cell_type": "markdown",
   "metadata": {
    "slideshow": {
     "slide_type": "fragment"
    }
   },
   "source": [
    "- Machine learning projects\n",
    "- Computational neuroscience projects \n",
    "- Your projects"
   ]
  },
  {
   "cell_type": "markdown",
   "metadata": {
    "slideshow": {
     "slide_type": "slide"
    }
   },
   "source": [
    "## Why python? "
   ]
  },
  {
   "cell_type": "markdown",
   "metadata": {
    "slideshow": {
     "slide_type": "subslide"
    }
   },
   "source": [
    "- Open source \n",
    "- Large active community\n",
    "- Widely used in machine learning, computational neuroscience \n",
    "- Mature ecosystem, i.e. and lots of packages"
   ]
  },
  {
   "cell_type": "markdown",
   "metadata": {
    "slideshow": {
     "slide_type": "subslide"
    }
   },
   "source": [
    "> \"Python is the second best tool for everything\""
   ]
  },
  {
   "cell_type": "markdown",
   "metadata": {
    "slideshow": {
     "slide_type": "subslide"
    }
   },
   "source": [
    "![](https://www.economist.com/img/b/1280/1401/90/sites/default/files/20180728_WOC883.png)\n",
    "\n",
    "[Economist: Python is becoming the world’s most popular coding language](https://www.economist.com/graphic-detail/2018/07/26/python-is-becoming-the-worlds-most-popular-coding-language)"
   ]
  },
  {
   "cell_type": "markdown",
   "metadata": {
    "slideshow": {
     "slide_type": "slide"
    }
   },
   "source": [
    "## Style of the course"
   ]
  },
  {
   "cell_type": "markdown",
   "metadata": {
    "slideshow": {
     "slide_type": "subslide"
    }
   },
   "source": [
    "- Programming is learning by doing\n",
    "- Provide lots of self-paced exercises for weeks 1 and 2 to cover the basics\n",
    "- Little classroom teaching, interactive course\n",
    "- Encouraged you to ask questions using video or course chat any time"
   ]
  },
  {
   "cell_type": "markdown",
   "metadata": {
    "slideshow": {
     "slide_type": "subslide"
    }
   },
   "source": [
    "### Purpose \n",
    "\n",
    "- Prepare you for learning programming in the master program\n",
    "- Not about the grade, but about you learning as much as possible"
   ]
  },
  {
   "cell_type": "markdown",
   "metadata": {
    "slideshow": {
     "slide_type": "subslide"
    }
   },
   "source": [
    "### Evaluation \n",
    "\n",
    "- Project presentation in form of short oral exam after the course beginning of January (11th/12th)"
   ]
  },
  {
   "cell_type": "markdown",
   "metadata": {
    "slideshow": {
     "slide_type": "slide"
    }
   },
   "source": [
    "## Schedule"
   ]
  },
  {
   "cell_type": "markdown",
   "metadata": {
    "slideshow": {
     "slide_type": "subslide"
    }
   },
   "source": [
    "#### 4 blocks, 2 days each \n",
    "\n",
    "- First two blocks: Programming basics\n",
    "- Last two blocks: Project work"
   ]
  },
  {
   "cell_type": "markdown",
   "metadata": {
    "slideshow": {
     "slide_type": "fragment"
    }
   },
   "source": [
    "#### When\n",
    "\n",
    "- Fri 1 - 6pm, Sat 9am - 2pm, starting November 6th"
   ]
  },
  {
   "cell_type": "markdown",
   "metadata": {
    "slideshow": {
     "slide_type": "fragment"
    }
   },
   "source": [
    "#### Where\n",
    "\n",
    "- Zoom, links send via Moodle"
   ]
  },
  {
   "cell_type": "markdown",
   "metadata": {
    "slideshow": {
     "slide_type": "slide"
    }
   },
   "source": [
    "## Projects\n",
    "### Machine learning\n",
    "### Computational neuroscience"
   ]
  },
  {
   "cell_type": "markdown",
   "metadata": {
    "slideshow": {
     "slide_type": "slide"
    }
   },
   "source": [
    "## Machine learning projects"
   ]
  },
  {
   "cell_type": "markdown",
   "metadata": {
    "slideshow": {
     "slide_type": "subslide"
    }
   },
   "source": [
    "### Classify hand written digits (MNIST data set)\n",
    "<center>\n",
    "\n",
    "![image](img/wikipedia_mnist.png)\n",
    "</center>\n",
    "<sup>\n",
    "image: wikipedia.org\n",
    "</sup>"
   ]
  },
  {
   "cell_type": "markdown",
   "metadata": {
    "slideshow": {
     "slide_type": "skip"
    }
   },
   "source": [
    "### build a multilayer perceptron and your own backpropagation algorithm\n",
    "<center>\n",
    "\n",
    "![image](img/wikipedia_perceptron.jpeg)\n",
    "</center>\n",
    "<sub>\n",
    "image: wikipedia.org\n",
    "</sub>"
   ]
  },
  {
   "cell_type": "markdown",
   "metadata": {
    "slideshow": {
     "slide_type": "subslide"
    }
   },
   "source": [
    "### Learn PyTorch: \n",
    "- on MNIST \n",
    "- fashion clothes data set \n",
    "- object recognition data set"
   ]
  },
  {
   "cell_type": "markdown",
   "metadata": {
    "slideshow": {
     "slide_type": "subslide"
    }
   },
   "source": [
    "### Participate in Kaggle competitions\n",
    "- NYC taxi trip duration estimation\n",
    "- leaf classification"
   ]
  },
  {
   "cell_type": "markdown",
   "metadata": {
    "slideshow": {
     "slide_type": "slide"
    }
   },
   "source": [
    "## Computational Neuroscience Projects"
   ]
  },
  {
   "cell_type": "markdown",
   "metadata": {
    "slideshow": {
     "slide_type": "subslide"
    }
   },
   "source": [
    "### Visual Perception \n",
    "<center>\n",
    "\n",
    "![image](img/theindependent_monroeeinstein.jpg)\n",
    "</center>\n",
    "<sub>\n",
    "image: independent.co.uk\n",
    "</sub>"
   ]
  },
  {
   "cell_type": "markdown",
   "metadata": {
    "slideshow": {
     "slide_type": "subslide"
    }
   },
   "source": [
    "### Slow feature analysis \n",
    "<center>\n",
    "\n",
    "![image](img/scholarpedia_sfa.jpg)\n",
    "</center>\n",
    "<sub>\n",
    "image: scholarpedia.org\n",
    "</sub>\n"
   ]
  },
  {
   "cell_type": "markdown",
   "metadata": {
    "slideshow": {
     "slide_type": "subslide"
    }
   },
   "source": [
    "### Saliency\n",
    "<center>\n",
    "\n",
    "![image](img/eaiblog_saliencymap.jpg)\n",
    "</center>\n",
    "<sub>\n",
    "image: blog.eai.eu\n",
    "</sub>"
   ]
  },
  {
   "cell_type": "markdown",
   "metadata": {
    "slideshow": {
     "slide_type": "subslide"
    }
   },
   "source": [
    "### Perceptual Bistability\n",
    "<center>\n",
    "\n",
    "![image](img/backyardbrain_bistability.jpg)\n",
    "</center>\n",
    "<sub>\n",
    "image: backyardbains.com\n",
    "</sub>"
   ]
  },
  {
   "cell_type": "markdown",
   "metadata": {
    "slideshow": {
     "slide_type": "slide"
    }
   },
   "source": [
    "### Make a GitHub account (github.com) if you do not have one\n",
    "\n",
    "### Course material\n",
    "\n",
    "https://github.com/cne-tum/msne-datascience-2020\n",
    "\n",
    "### Sign up for the course\n",
    "\n",
    "https://forms.gle/jZCtwVdVcG8T3C9e8\n",
    "\n",
    "\n",
    "### Join chatroom (use GitHub for login)\n",
    "\n",
    "https://gitter.im/msne-datascience-2020/community\n",
    "\n",
    "\n",
    "### Questions\n",
    "\n",
    "![](http://safemail.justlikeed.net/e/a88256e0e5abb4584bb0e03d2d7ca817.png)\n",
    "\n",
    "![](http://safemail.justlikeed.net/e/c5a947762c7bfecfa9f21cf93b76988b.png)\n",
    "\n",
    "![](http://safemail.justlikeed.net/e/4d9790cf7a85cde36705cc664de7b268.png)"
   ]
  }
 ],
 "metadata": {
  "kernelspec": {
   "display_name": "Python 3",
   "language": "python",
   "name": "python3"
  },
  "language_info": {
   "codemirror_mode": {
    "name": "ipython",
    "version": 3
   },
   "file_extension": ".py",
   "mimetype": "text/x-python",
   "name": "python",
   "nbconvert_exporter": "python",
   "pygments_lexer": "ipython3",
   "version": "3.7.4"
  }
 },
 "nbformat": 4,
 "nbformat_minor": 2
}
